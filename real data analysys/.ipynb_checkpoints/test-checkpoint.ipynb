{
 "cells": [
  {
   "cell_type": "code",
   "execution_count": 3,
   "metadata": {},
   "outputs": [],
   "source": [
    "import numpy as np\n",
    "import scipy as sc\n",
    "import matplotlib.pyplot as plt\n",
    "from lmfit import Model\n",
    "from lmfit.models import GaussianModel, LinearModel\n",
    "from lmfit import Model"
   ]
  },
  {
   "cell_type": "code",
   "execution_count": 14,
   "metadata": {},
   "outputs": [],
   "source": [
    "bbdt = np.genfromtxt('bbdt-ks0.txt', delimiter='\\n')\n",
    "lwtnn = np.genfromtxt('lwtnn-ks0.txt', delimiter='\\n')\n",
    "pn = np.genfromtxt('pn-ks0.txt', delimiter='\\n')"
   ]
  },
  {
   "cell_type": "code",
   "execution_count": 15,
   "metadata": {},
   "outputs": [],
   "source": [
    "def transf(data):\n",
    "    y,b=np.histogram(data,bins=100)\n",
    "    x=b[:-1]+(b[1:]-b[:-1])/2\n",
    "    return x,y\n",
    "\n",
    "x_bbdt , y_bbdt = transf(bbdt)\n",
    "x_lwtnn , y_lwtnn = transf(lwtnn)\n",
    "x_pn , y_pn = transf(pn)"
   ]
  },
  {
   "cell_type": "code",
   "execution_count": 16,
   "metadata": {},
   "outputs": [
    {
     "name": "stdout",
     "output_type": "stream",
     "text": [
      "[[Model]]\n",
      "    (Model(gaussian) + Model(linear))\n",
      "[[Fit Statistics]]\n",
      "    # fitting method   = leastsq\n",
      "    # function evals   = 51\n",
      "    # data points      = 100\n",
      "    # variables        = 5\n",
      "    chi-square         = 9508.70833\n",
      "    reduced chi-square = 100.091667\n",
      "    Akaike info crit   = 465.479314\n",
      "    Bayesian info crit = 478.505165\n",
      "[[Variables]]\n",
      "    intercept:  209.699659 +/- 17.6450776 (8.41%) (init = 233.3974)\n",
      "    slope:     -0.21516081 +/- 0.03511942 (16.32%) (init = -0.2427557)\n",
      "    amplitude:  989.952476 +/- 72.1782629 (7.29%) (init = 7683.885)\n",
      "    center:     497.675877 +/- 0.44309418 (0.09%) (init = 493.7485)\n",
      "    sigma:      6.42330647 +/- 0.47477079 (7.39%) (init = 23.49812)\n",
      "    fwhm:       15.1257305 +/- 1.11799975 (7.39%) == '2.3548200*sigma'\n",
      "    height:     61.4845204 +/- 3.73552358 (6.08%) == '0.3989423*amplitude/max(1.e-15, sigma)'\n",
      "[[Correlations]] (unreported correlations are < 0.100)\n",
      "    C(intercept, slope)  = -0.998\n",
      "    C(amplitude, sigma)  =  0.658\n",
      "    C(slope, center)     = -0.150\n",
      "    C(intercept, center) =  0.150\n",
      "\n"
     ]
    },
    {
     "data": {
      "text/plain": [
       "[<matplotlib.lines.Line2D at 0x7f541b9cf160>]"
      ]
     },
     "execution_count": 16,
     "metadata": {},
     "output_type": "execute_result"
    },
    {
     "data": {
      "image/png": "[encoded data removed]",
      "text/plain": [
       "<matplotlib.figure.Figure at 0x7f541da38780>"
      ]
     },
     "metadata": {},
     "output_type": "display_data"
    },
    {
     "data": {
      "image/png": "[encoded data removed]",
      "text/plain": [
       "<matplotlib.figure.Figure at 0x7f541b9eb860>"
      ]
     },
     "metadata": {},
     "output_type": "display_data"
    }
   ],
   "source": [
    "peak = GaussianModel()\n",
    "offset = LinearModel()\n",
    "mod = peak + offset\n",
    "\n",
    "pars = offset.guess(y_bbdt, x=x_bbdt)\n",
    "pars += peak.guess(y_bbdt, x=x_bbdt)\n",
    "\n",
    "result = mod.fit(y_bbdt,pars, x=x_bbdt)\n",
    "print(result.fit_report())\n",
    "comps = result.eval_components()\n",
    "plt.plot(x_bbdt, y_bbdt, 'bo')\n",
    "plt.plot(x_bbdt, result.best_fit, 'r-')\n",
    "plt.plot(x_bbdt, comps['linear'], 'r--')\n",
    "plt.figure()\n",
    "plt.plot(x_bbdt, y_bbdt, 'bo')\n",
    "plt.plot(x_bbdt, comps['gaussian'], 'k--')\n",
    "plt.plot(x_bbdt, comps['linear'], 'r--')"
   ]
  },
  {
   "cell_type": "code",
   "execution_count": 18,
   "metadata": {},
   "outputs": [
    {
     "name": "stdout",
     "output_type": "stream",
     "text": [
      "linear  \t 10211.96832135492\n",
      "gaussian \t 990.0316786448543\n",
      "sumfit   \t 11201.999999999774\n",
      "sum     \t 11202\n",
      "gaussian peak \t 39856.4489\n",
      "linear peak \t 8875.64642\n",
      "peak     \t 48732.09532\n"
     ]
    }
   ],
   "source": [
    "print('linear  \\t', np.sum(comps['linear']))\n",
    "print('gaussian \\t', np.sum(comps['gaussian']))\n",
    "print('sumfit   \\t', np.sum(comps['linear'])+np.sum(comps['gaussian']))\n",
    "print('sum     \\t', np.sum(y_bbdt))\n",
    "print('gaussian peak \\t', 39856.4489)\n",
    "print('linear peak \\t', 887.879046*0+8875.64642)\n",
    "print('peak     \\t', 39856.4489+887.879046*0+8875.64642)"
   ]
  },
  {
   "cell_type": "code",
   "execution_count": null,
   "metadata": {},
   "outputs": [],
   "source": []
  }
 ],
 "metadata": {
  "kernelspec": {
   "display_name": "Python 3",
   "language": "python",
   "name": "python3"
  },
  "language_info": {
   "codemirror_mode": {
    "name": "ipython",
    "version": 3
   },
   "file_extension": ".py",
   "mimetype": "text/x-python",
   "name": "python",
   "nbconvert_exporter": "python",
   "pygments_lexer": "ipython3",
   "version": "3.5.2"
  }
 },
 "nbformat": 4,
 "nbformat_minor": 2
}
